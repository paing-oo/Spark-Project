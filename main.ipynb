{
 "cells": [
  {
   "cell_type": "markdown",
   "metadata": {
    "application/vnd.databricks.v1+cell": {
     "cellMetadata": {
      "byteLimit": 2048000,
      "rowLimit": 10000
     },
     "inputWidgets": {},
     "nuid": "36f9f228-a6d4-4112-ac74-64a0b564ac85",
     "showTitle": false,
     "title": ""
    }
   },
   "source": [
    "# CS4225/CS5425 Assignment 2"
   ]
  },
  {
   "cell_type": "markdown",
   "metadata": {
    "application/vnd.databricks.v1+cell": {
     "cellMetadata": {
      "byteLimit": 2048000,
      "rowLimit": 10000
     },
     "inputWidgets": {},
     "nuid": "ccfc2f1b-1142-4a36-ae5a-3a1deca6548a",
     "showTitle": false,
     "title": ""
    }
   },
   "source": [
    "## 1. Data Preparation"
   ]
  },
  {
   "cell_type": "code",
   "execution_count": 0,
   "metadata": {
    "application/vnd.databricks.v1+cell": {
     "cellMetadata": {
      "byteLimit": 2048000,
      "rowLimit": 10000
     },
     "inputWidgets": {},
     "nuid": "ce93cbaf-de51-454d-832c-73b98dea27ea",
     "showTitle": false,
     "title": ""
    }
   },
   "outputs": [],
   "source": [
    "import urllib\n",
    "import zipfile\n",
    "from pyspark.sql.types import *   \n",
    "from pyspark.sql.functions import *\n",
    "from pyspark.ml.feature import RFormula\n",
    "from pyspark.ml.regression import LinearRegression\n",
    "from pyspark.ml import Pipeline\n",
    "from pyspark.ml.evaluation import RegressionEvaluator\n"
   ]
  },
  {
   "cell_type": "markdown",
   "metadata": {
    "application/vnd.databricks.v1+cell": {
     "cellMetadata": {
      "byteLimit": 2048000,
      "rowLimit": 10000
     },
     "inputWidgets": {},
     "nuid": "546ad2f3-5d8b-4d0f-b592-528e963a4c90",
     "showTitle": false,
     "title": ""
    }
   },
   "source": [
    "\n",
    "###Download and unzip citibike data from 2022/01 to 2023/07 into a dataframe"
   ]
  },
  {
   "cell_type": "code",
   "execution_count": 0,
   "metadata": {
    "application/vnd.databricks.v1+cell": {
     "cellMetadata": {
      "byteLimit": 2048000,
      "rowLimit": 10000
     },
     "inputWidgets": {},
     "nuid": "f657236b-404d-44bc-919a-f60f239552ee",
     "showTitle": false,
     "title": ""
    }
   },
   "outputs": [],
   "source": [
    "leftUrl = \"https://s3.amazonaws.com/tripdata/\"\n",
    "rightUrl = \"-citibike-tripdata.csv.zip\"\n",
    "leftPath = \"/tmp/\"\n",
    "rightPath = \"-citibike-tripdata.csv.zip\"\n",
    "yearAndMonths = [0] * 19\n",
    "count = 202201\n",
    "\n",
    "empRDD = spark.sparkContext.emptyRDD()\n",
    "columns = StructType([StructField('ride_id', StringType(), True),\n",
    "                      StructField('rideable_type', StringType(), True),\n",
    "                      StructField('started_at', StringType(), True),\n",
    "                      StructField('ended_at', StringType(), True),\n",
    "                      StructField('start_station_name', StringType(), True),\n",
    "                      StructField('start_station_id', StringType(), True),\n",
    "                      StructField('end_station_name', StringType(), True),\n",
    "                      StructField('end_station_id', StringType(), True),\n",
    "                      StructField('start_lat', StringType(), True),\n",
    "                      StructField('start_lng', StringType(), True),\n",
    "                      StructField('end_lat', StringType(), True),\n",
    "                      StructField('end_lng', StringType(), True),\n",
    "                      StructField('member_casual', StringType(), True),]\n",
    ")\n",
    "\n",
    "bikeData = spark.createDataFrame(data=empRDD, schema=columns)\n",
    "\n",
    "for i in range(0, 19):\n",
    "    if str(count)[4:] == '13':\n",
    "        count = 202301\n",
    "    yearAndMonths[i] = str(count)\n",
    "    count += 1\n",
    "\n",
    "for i in range(0, 19):\n",
    "    url = leftUrl + yearAndMonths[i] + rightUrl\n",
    "    path = leftPath + yearAndMonths[i] + rightPath\n",
    "    if i == 6 or i == 5:\n",
    "        url = leftUrl + yearAndMonths[i] + \"-citbike-tripdata.csv.zip\"\n",
    "        path = leftPath + yearAndMonths[i] + \"-citbike-tripdata.csv.zip\"\n",
    "    urllib.request.urlretrieve(url, path)\n",
    "    with zipfile.ZipFile(path, 'r') as zip_ref:\n",
    "        zip_ref.extractall(\"/tmp/\")\n",
    "\n",
    "    currData = spark.read.format(\"csv\").option(\"header\", True).option(\"inferSchema\", True).load(\"file:\" + path[:-4])\n",
    "    bikeData = bikeData.union(currData)\n"
   ]
  },
  {
   "cell_type": "markdown",
   "metadata": {
    "application/vnd.databricks.v1+cell": {
     "cellMetadata": {
      "byteLimit": 2048000,
      "rowLimit": 10000
     },
     "inputWidgets": {},
     "nuid": "2e817593-bcf9-4d4c-a329-1fe1970d2cef",
     "showTitle": false,
     "title": ""
    }
   },
   "source": [
    "\n",
    "###Preprocess bikedata "
   ]
  },
  {
   "cell_type": "code",
   "execution_count": 0,
   "metadata": {
    "application/vnd.databricks.v1+cell": {
     "cellMetadata": {
      "byteLimit": 2048000,
      "rowLimit": 10000
     },
     "inputWidgets": {},
     "nuid": "5a204354-83b7-488d-b865-c3dcc6d9880e",
     "showTitle": false,
     "title": ""
    }
   },
   "outputs": [],
   "source": [
    "processedBikeData = bikeData\n",
    "'''\n",
    "processedBikeData = processedBikeData.withColumn('year', col('started_at').substr(1,4))\\\n",
    "    .withColumn('month', col('started_at').substr(6,2))\\\n",
    "    .withColumn('day', col('started_at').substr(9,2))\\\n",
    "    .groupBy('year', 'month', 'day')\\\n",
    "    .count()\\\n",
    "    .withColumnRenamed(\"count\", \"trip_count\")\\\n",
    "    .collect()\n",
    "'''\n",
    "processedBikeData = processedBikeData.withColumn('datetime', substring('started_at', 1, 10))\\\n",
    "    .groupBy(\"datetime\")\\\n",
    "    .count()\\\n",
    "    .withColumnRenamed(\"count\", \"trip_count\")\\\n",
    "    .withColumnRenamed(\"datetime\", \"bike_date_time\")"
   ]
  },
  {
   "cell_type": "markdown",
   "metadata": {
    "application/vnd.databricks.v1+cell": {
     "cellMetadata": {
      "byteLimit": 2048000,
      "rowLimit": 10000
     },
     "inputWidgets": {},
     "nuid": "906d17d9-6fec-4a10-ab05-75d1fbceb027",
     "showTitle": false,
     "title": ""
    }
   },
   "source": [
    "\n",
    "###Load weather data from DBFS, preprocess weather data, handle null values"
   ]
  },
  {
   "cell_type": "code",
   "execution_count": 0,
   "metadata": {
    "application/vnd.databricks.v1+cell": {
     "cellMetadata": {
      "byteLimit": 2048000,
      "rowLimit": 10000
     },
     "inputWidgets": {},
     "nuid": "d466d1ca-b610-4425-a2ef-df835e841dd1",
     "showTitle": false,
     "title": ""
    }
   },
   "outputs": [],
   "source": [
    "from pyspark.ml.feature import Imputer\n",
    "\n",
    "imputeColumns = ['tempmax', 'tempmin', 'temp', 'feelslikemax', 'feelslikemin', 'feelslike', 'humidity', 'precip', 'precipprob', 'snow', 'snowdepth', 'windgust', 'windspeed', 'winddir', 'cloudcover', 'visibility', 'severerisk']\n",
    "weatherData = spark.read.format(\"csv\").option(\"header\", True).option(\"inferSchema\", True).load(\"/FileStore/tables/weather_data.csv\")\n",
    "weatherData = weatherData.drop('name', 'sealevelpressure', 'sunrise', 'sunset', 'moonphase', 'stations', 'solarradiation', 'solarenergy', 'uvindex', 'dew')\n",
    "\n",
    "imputer = Imputer(\n",
    "    inputCols = imputeColumns, \n",
    "    outputCols = imputeColumns\n",
    ")\n",
    "\n",
    "weatherData = imputer.setStrategy(\"median\").fit(weatherData).transform(weatherData)\\\n",
    "    .fillna('None')\n"
   ]
  },
  {
   "cell_type": "code",
   "execution_count": 0,
   "metadata": {
    "application/vnd.databricks.v1+cell": {
     "cellMetadata": {
      "byteLimit": 2048000,
      "rowLimit": 10000
     },
     "inputWidgets": {},
     "nuid": "9485f656-6935-4f1b-b3c5-4bc344c51e73",
     "showTitle": false,
     "title": ""
    }
   },
   "outputs": [
    {
     "output_type": "display_data",
     "data": {
      "text/html": [
       "<style scoped>\n",
       "  .table-result-container {\n",
       "    max-height: 300px;\n",
       "    overflow: auto;\n",
       "  }\n",
       "  table, th, td {\n",
       "    border: 1px solid black;\n",
       "    border-collapse: collapse;\n",
       "  }\n",
       "  th, td {\n",
       "    padding: 5px;\n",
       "  }\n",
       "  th {\n",
       "    text-align: left;\n",
       "  }\n",
       "</style><div class='table-result-container'><table class='table-result'><thead style='background-color: white'><tr><th>summary</th><th>tempmax</th><th>tempmin</th><th>temp</th><th>feelslikemax</th><th>feelslikemin</th><th>feelslike</th><th>humidity</th><th>precip</th><th>precipprob</th><th>precipcover</th><th>preciptype</th><th>snow</th><th>snowdepth</th><th>windgust</th><th>windspeed</th><th>winddir</th><th>cloudcover</th><th>visibility</th><th>severerisk</th><th>conditions</th><th>description</th><th>icon</th></tr></thead><tbody><tr><td>count</td><td>577</td><td>577</td><td>577</td><td>577</td><td>577</td><td>577</td><td>577</td><td>577</td><td>577</td><td>577</td><td>577</td><td>577</td><td>577</td><td>577</td><td>577</td><td>577</td><td>577</td><td>577</td><td>577</td><td>577</td><td>577</td><td>577</td></tr><tr><td>mean</td><td>17.663258232235698</td><td>10.263778162911624</td><td>13.70901213171575</td><td>17.369324090121317</td><td>8.478509532062391</td><td>12.758405545927207</td><td>60.564818024263474</td><td>1.9972287694974025</td><td>50.433275563258235</td><td>9.850034662045065</td><td>null</td><td>0.09064124783362218</td><td>0.16187175043327542</td><td>50.41715771230504</td><td>20.71854419410747</td><td>195.76273830155958</td><td>42.81767764298093</td><td>15.0109185441941</td><td>15.320623916811092</td><td>null</td><td>null</td><td>null</td></tr><tr><td>stddev</td><td>9.589490872764063</td><td>9.037148733338443</td><td>9.09195435086733</td><td>10.664266253051068</td><td>11.013220710288948</td><td>10.57229589582405</td><td>14.697219349504598</td><td>5.5906202025944305</td><td>50.041505014816344</td><td>16.003820702636286</td><td>null</td><td>0.6410298012907704</td><td>1.1299591150033044</td><td>17.985075802720363</td><td>6.437071395807839</td><td>101.5770842423778</td><td>31.15112802510022</td><td>1.9429007224538704</td><td>15.159206302480454</td><td>null</td><td>null</td><td>null</td></tr><tr><td>min</td><td>-9.3</td><td>-14.2</td><td>-11.6</td><td>-15.8</td><td>-26.0</td><td>-20.2</td><td>24.3</td><td>0.0</td><td>0</td><td>0.0</td><td>None</td><td>0.0</td><td>0.0</td><td>13.3</td><td>8.0</td><td>0.2</td><td>0.1</td><td>4.1</td><td>10</td><td>Clear</td><td>Becoming cloudy in the afternoon with afternoon rain.</td><td>clear-day</td></tr><tr><td>25%</td><td>10.0</td><td>3.4</td><td>6.7</td><td>9.3</td><td>0.1</td><td>4.2</td><td>49.7</td><td>0.0</td><td>0</td><td>0.0</td><td>null</td><td>0.0</td><td>0.0</td><td>35.3</td><td>16.2</td><td>89.2</td><td>14.3</td><td>15.1</td><td>10</td><td>null</td><td>null</td><td>null</td></tr><tr><td>50%</td><td>17.9</td><td>9.9</td><td>13.5</td><td>17.9</td><td>8.5</td><td>13.5</td><td>59.6</td><td>0.008</td><td>100</td><td>4.17</td><td>null</td><td>0.0</td><td>0.0</td><td>48.9</td><td>20.0</td><td>233.6</td><td>36.6</td><td>15.9</td><td>10</td><td>null</td><td>null</td><td>null</td></tr><tr><td>75%</td><td>26.1</td><td>18.0</td><td>21.6</td><td>26.1</td><td>18.0</td><td>21.6</td><td>71.2</td><td>0.862</td><td>100</td><td>12.5</td><td>null</td><td>0.0</td><td>0.0</td><td>63.5</td><td>24.0</td><td>274.4</td><td>69.3</td><td>16.0</td><td>10</td><td>null</td><td>null</td><td>null</td></tr><tr><td>max</td><td>36.1</td><td>26.7</td><td>30.7</td><td>41.0</td><td>29.5</td><td>34.7</td><td>95.4</td><td>60.941</td><td>100</td><td>100.0</td><td>snow</td><td>8.1</td><td>16.1</td><td>96.1</td><td>46.4</td><td>359.8</td><td>100.0</td><td>16.0</td><td>100</td><td>Snow, Rain, Partially cloudy</td><td>Partly cloudy throughout the day.</td><td>snow</td></tr></tbody></table></div>"
      ]
     },
     "metadata": {
      "application/vnd.databricks.v1+output": {
       "addedWidgets": {},
       "aggData": [],
       "aggError": "",
       "aggOverflow": false,
       "aggSchema": [],
       "aggSeriesLimitReached": false,
       "aggType": "",
       "arguments": {},
       "columnCustomDisplayInfos": {},
       "data": [
        [
         "count",
         "577",
         "577",
         "577",
         "577",
         "577",
         "577",
         "577",
         "577",
         "577",
         "577",
         "577",
         "577",
         "577",
         "577",
         "577",
         "577",
         "577",
         "577",
         "577",
         "577",
         "577",
         "577"
        ],
        [
         "mean",
         "17.663258232235698",
         "10.263778162911624",
         "13.70901213171575",
         "17.369324090121317",
         "8.478509532062391",
         "12.758405545927207",
         "60.564818024263474",
         "1.9972287694974025",
         "50.433275563258235",
         "9.850034662045065",
         null,
         "0.09064124783362218",
         "0.16187175043327542",
         "50.41715771230504",
         "20.71854419410747",
         "195.76273830155958",
         "42.81767764298093",
         "15.0109185441941",
         "15.320623916811092",
         null,
         null,
         null
        ],
        [
         "stddev",
         "9.589490872764063",
         "9.037148733338443",
         "9.09195435086733",
         "10.664266253051068",
         "11.013220710288948",
         "10.57229589582405",
         "14.697219349504598",
         "5.5906202025944305",
         "50.041505014816344",
         "16.003820702636286",
         null,
         "0.6410298012907704",
         "1.1299591150033044",
         "17.985075802720363",
         "6.437071395807839",
         "101.5770842423778",
         "31.15112802510022",
         "1.9429007224538704",
         "15.159206302480454",
         null,
         null,
         null
        ],
        [
         "min",
         "-9.3",
         "-14.2",
         "-11.6",
         "-15.8",
         "-26.0",
         "-20.2",
         "24.3",
         "0.0",
         "0",
         "0.0",
         "None",
         "0.0",
         "0.0",
         "13.3",
         "8.0",
         "0.2",
         "0.1",
         "4.1",
         "10",
         "Clear",
         "Becoming cloudy in the afternoon with afternoon rain.",
         "clear-day"
        ],
        [
         "25%",
         "10.0",
         "3.4",
         "6.7",
         "9.3",
         "0.1",
         "4.2",
         "49.7",
         "0.0",
         "0",
         "0.0",
         null,
         "0.0",
         "0.0",
         "35.3",
         "16.2",
         "89.2",
         "14.3",
         "15.1",
         "10",
         null,
         null,
         null
        ],
        [
         "50%",
         "17.9",
         "9.9",
         "13.5",
         "17.9",
         "8.5",
         "13.5",
         "59.6",
         "0.008",
         "100",
         "4.17",
         null,
         "0.0",
         "0.0",
         "48.9",
         "20.0",
         "233.6",
         "36.6",
         "15.9",
         "10",
         null,
         null,
         null
        ],
        [
         "75%",
         "26.1",
         "18.0",
         "21.6",
         "26.1",
         "18.0",
         "21.6",
         "71.2",
         "0.862",
         "100",
         "12.5",
         null,
         "0.0",
         "0.0",
         "63.5",
         "24.0",
         "274.4",
         "69.3",
         "16.0",
         "10",
         null,
         null,
         null
        ],
        [
         "max",
         "36.1",
         "26.7",
         "30.7",
         "41.0",
         "29.5",
         "34.7",
         "95.4",
         "60.941",
         "100",
         "100.0",
         "snow",
         "8.1",
         "16.1",
         "96.1",
         "46.4",
         "359.8",
         "100.0",
         "16.0",
         "100",
         "Snow, Rain, Partially cloudy",
         "Partly cloudy throughout the day.",
         "snow"
        ]
       ],
       "datasetInfos": [],
       "dbfsResultPath": null,
       "isJsonSchema": true,
       "metadata": {},
       "overflow": false,
       "plotOptions": {
        "customPlotOptions": {},
        "displayType": "table",
        "pivotAggregation": null,
        "pivotColumns": null,
        "xColumns": null,
        "yColumns": null
       },
       "removedWidgets": [],
       "schema": [
        {
         "metadata": "{}",
         "name": "summary",
         "type": "\"string\""
        },
        {
         "metadata": "{}",
         "name": "tempmax",
         "type": "\"string\""
        },
        {
         "metadata": "{}",
         "name": "tempmin",
         "type": "\"string\""
        },
        {
         "metadata": "{}",
         "name": "temp",
         "type": "\"string\""
        },
        {
         "metadata": "{}",
         "name": "feelslikemax",
         "type": "\"string\""
        },
        {
         "metadata": "{}",
         "name": "feelslikemin",
         "type": "\"string\""
        },
        {
         "metadata": "{}",
         "name": "feelslike",
         "type": "\"string\""
        },
        {
         "metadata": "{}",
         "name": "humidity",
         "type": "\"string\""
        },
        {
         "metadata": "{}",
         "name": "precip",
         "type": "\"string\""
        },
        {
         "metadata": "{}",
         "name": "precipprob",
         "type": "\"string\""
        },
        {
         "metadata": "{}",
         "name": "precipcover",
         "type": "\"string\""
        },
        {
         "metadata": "{}",
         "name": "preciptype",
         "type": "\"string\""
        },
        {
         "metadata": "{}",
         "name": "snow",
         "type": "\"string\""
        },
        {
         "metadata": "{}",
         "name": "snowdepth",
         "type": "\"string\""
        },
        {
         "metadata": "{}",
         "name": "windgust",
         "type": "\"string\""
        },
        {
         "metadata": "{}",
         "name": "windspeed",
         "type": "\"string\""
        },
        {
         "metadata": "{}",
         "name": "winddir",
         "type": "\"string\""
        },
        {
         "metadata": "{}",
         "name": "cloudcover",
         "type": "\"string\""
        },
        {
         "metadata": "{}",
         "name": "visibility",
         "type": "\"string\""
        },
        {
         "metadata": "{}",
         "name": "severerisk",
         "type": "\"string\""
        },
        {
         "metadata": "{}",
         "name": "conditions",
         "type": "\"string\""
        },
        {
         "metadata": "{}",
         "name": "description",
         "type": "\"string\""
        },
        {
         "metadata": "{}",
         "name": "icon",
         "type": "\"string\""
        }
       ],
       "type": "table"
      }
     },
     "output_type": "display_data"
    }
   ],
   "source": [
    "display(weatherData.summary())"
   ]
  },
  {
   "cell_type": "markdown",
   "metadata": {
    "application/vnd.databricks.v1+cell": {
     "cellMetadata": {
      "byteLimit": 2048000,
      "rowLimit": 10000
     },
     "inputWidgets": {},
     "nuid": "3f769935-87f1-425d-9f01-3fdc0cf94739",
     "showTitle": false,
     "title": ""
    }
   },
   "source": [
    "\n",
    "###Join weather data and bike data and store resulting data in DBFS"
   ]
  },
  {
   "cell_type": "code",
   "execution_count": 0,
   "metadata": {
    "application/vnd.databricks.v1+cell": {
     "cellMetadata": {
      "byteLimit": 2048000,
      "rowLimit": 10000
     },
     "inputWidgets": {},
     "nuid": "3c7fdbed-b552-4f51-bc1a-07f1562ba579",
     "showTitle": false,
     "title": ""
    }
   },
   "outputs": [],
   "source": [
    "result_data = processedBikeData.join(weatherData, processedBikeData.bike_date_time == weatherData.datetime).drop(\"bike_date_time\")\n",
    "result_data.coalesce(1).write.format('csv').option('header', 'true').mode('overwrite').save(\"/FileStore/tables/result_data.csv\")"
   ]
  },
  {
   "cell_type": "markdown",
   "metadata": {
    "application/vnd.databricks.v1+cell": {
     "cellMetadata": {
      "byteLimit": 2048000,
      "rowLimit": 10000
     },
     "inputWidgets": {},
     "nuid": "daba1f11-0914-44b2-954f-37ab3d8a978f",
     "showTitle": false,
     "title": ""
    }
   },
   "source": [
    "\n",
    "###Load resulting data from DBFS into dataframe"
   ]
  },
  {
   "cell_type": "code",
   "execution_count": 0,
   "metadata": {
    "application/vnd.databricks.v1+cell": {
     "cellMetadata": {
      "byteLimit": 2048000,
      "rowLimit": 10000
     },
     "inputWidgets": {},
     "nuid": "96d0c52e-6e12-47b5-a585-7e20df7abf22",
     "showTitle": false,
     "title": ""
    }
   },
   "outputs": [],
   "source": [
    "result_data = spark.read.format(\"csv\").option(\"header\", True).option(\"inferSchema\", True).load(\"/FileStore/tables/result_data.csv\")"
   ]
  },
  {
   "cell_type": "markdown",
   "metadata": {
    "application/vnd.databricks.v1+cell": {
     "cellMetadata": {
      "byteLimit": 2048000,
      "rowLimit": 10000
     },
     "inputWidgets": {},
     "nuid": "2bb54a59-5e5f-4579-990d-5a651fc7a82e",
     "showTitle": false,
     "title": ""
    }
   },
   "source": [
    "\n",
    "###Further Data Pre-Processing and Filter resulting data into training data and testing data"
   ]
  },
  {
   "cell_type": "code",
   "execution_count": 0,
   "metadata": {
    "application/vnd.databricks.v1+cell": {
     "cellMetadata": {
      "byteLimit": 2048000,
      "rowLimit": 10000
     },
     "inputWidgets": {},
     "nuid": "24451737-352a-4ef7-b639-ad683dc7e7fe",
     "showTitle": false,
     "title": ""
    }
   },
   "outputs": [],
   "source": [
    "result_data = result_data.withColumn(\"week_day_number\", date_format((\"datetime\"), \"E\"))\n",
    "  #.drop('humidity', 'precip', 'precipprob', 'snow', 'snowdepth', 'windgust', 'windspeed', 'winddir', 'cloudcover', 'preciptype', 'conditions', 'description', 'icon')\n",
    "trainingData = result_data.filter(result_data.datetime.between(\"2022-01-01\", \"2022-12-31\"))\n",
    "testingData = result_data.filter(result_data.datetime.between(\"2023-01-01\", \"2023-07-31\"))"
   ]
  },
  {
   "cell_type": "markdown",
   "metadata": {
    "application/vnd.databricks.v1+cell": {
     "cellMetadata": {
      "byteLimit": 2048000,
      "rowLimit": 10000
     },
     "inputWidgets": {},
     "nuid": "122f1731-f2ee-4352-ae6a-c581fc7e62a9",
     "showTitle": false,
     "title": ""
    }
   },
   "source": [
    "## 2. Build ML Pipeline using Training Data"
   ]
  },
  {
   "cell_type": "markdown",
   "metadata": {
    "application/vnd.databricks.v1+cell": {
     "cellMetadata": {
      "byteLimit": 2048000,
      "rowLimit": 10000
     },
     "inputWidgets": {},
     "nuid": "f37f3841-87cd-40eb-a55d-e2a45fb72ff4",
     "showTitle": false,
     "title": ""
    }
   },
   "source": [
    "\n",
    "###Log Scale Trip Count"
   ]
  },
  {
   "cell_type": "code",
   "execution_count": 0,
   "metadata": {
    "application/vnd.databricks.v1+cell": {
     "cellMetadata": {
      "byteLimit": 2048000,
      "rowLimit": 10000
     },
     "inputWidgets": {},
     "nuid": "69485ce7-6b59-4cd4-bcb6-27bb178a7053",
     "showTitle": false,
     "title": ""
    }
   },
   "outputs": [],
   "source": [
    "logTrainingData = trainingData.withColumn(\"log_trip_count\", log(col(\"trip_count\")))\n",
    "logTestingData = testingData.withColumn(\"log_trip_count\", log(col(\"trip_count\")))"
   ]
  },
  {
   "cell_type": "markdown",
   "metadata": {
    "application/vnd.databricks.v1+cell": {
     "cellMetadata": {
      "byteLimit": 2048000,
      "rowLimit": 10000
     },
     "inputWidgets": {},
     "nuid": "710416d0-e4d4-499f-b967-d198dd98d6a4",
     "showTitle": false,
     "title": ""
    }
   },
   "source": [
    "\n",
    "###StringIndexer, OneHotEncoder, Feature Selection with VectorAssembler\n"
   ]
  },
  {
   "cell_type": "code",
   "execution_count": 0,
   "metadata": {
    "application/vnd.databricks.v1+cell": {
     "cellMetadata": {
      "byteLimit": 2048000,
      "rowLimit": 10000
     },
     "inputWidgets": {},
     "nuid": "dc0aa672-161d-4234-9352-e715f394e0be",
     "showTitle": false,
     "title": ""
    }
   },
   "outputs": [],
   "source": [
    "#rFormula = RFormula(formula=\"log_trip_count ~ . - trip_count\", featuresCol=\"features\", labelCol=\"log_trip_count\", handleInvalid=\"skip\")\n",
    "\n",
    "from pyspark.ml.feature import OneHotEncoder, StringIndexer\n",
    "from pyspark.ml.feature import VectorAssembler\n",
    "from pyspark.ml.feature import SQLTransformer\n",
    "\n",
    "categoricalCols = [\"week_day_number\"]\n",
    "indexOutputCols = [x + \"Index\" for x in categoricalCols]\n",
    "oheOutputCols = [x + \"OHE\" for x in categoricalCols]\n",
    "\n",
    "stringIndexer = StringIndexer(inputCols=categoricalCols, \n",
    "                              outputCols=indexOutputCols, \n",
    "                              handleInvalid=\"skip\")\n",
    "oheEncoder = OneHotEncoder(inputCols=indexOutputCols, \n",
    "                           outputCols=oheOutputCols)\n",
    "\n",
    "numericCols = [\"tempmax\", \"tempmin\", \"temp\", \"feelslikemax\", \"feelslikemin\", \"feelslike\", \"precipcover\", \"visibility\", \"severerisk\"]\n",
    "assemblerInputs = oheOutputCols + numericCols\n",
    "vecAssembler = VectorAssembler(inputCols=assemblerInputs, \n",
    "                               outputCol=\"features\")"
   ]
  },
  {
   "cell_type": "markdown",
   "metadata": {
    "application/vnd.databricks.v1+cell": {
     "cellMetadata": {
      "byteLimit": 2048000,
      "rowLimit": 10000
     },
     "inputWidgets": {},
     "nuid": "379dd35b-fbe1-40cd-b677-c55bddd5da1c",
     "showTitle": false,
     "title": ""
    }
   },
   "source": [
    "\n",
    "###Build machine learning model "
   ]
  },
  {
   "cell_type": "code",
   "execution_count": 0,
   "metadata": {
    "application/vnd.databricks.v1+cell": {
     "cellMetadata": {
      "byteLimit": 2048000,
      "rowLimit": 10000
     },
     "inputWidgets": {},
     "nuid": "680feeeb-8cc2-4d13-8c3c-f1ad2acc280e",
     "showTitle": false,
     "title": ""
    }
   },
   "outputs": [
    {
     "output_type": "display_data",
     "data": {
      "application/vnd.jupyter.widget-view+json": {
       "model_id": "b97db14d9ff441d58a8a0a12275a8185",
       "version_major": 2,
       "version_minor": 0
      },
      "text/plain": [
       "Downloading artifacts:   0%|          | 0/25 [00:00<?, ?it/s]"
      ]
     },
     "metadata": {},
     "output_type": "display_data"
    },
    {
     "output_type": "display_data",
     "data": {
      "application/vnd.jupyter.widget-view+json": {
       "model_id": "ccab1d9e9ef64baea97d1996f4e18a02",
       "version_major": 2,
       "version_minor": 0
      },
      "text/plain": [
       "Uploading artifacts:   0%|          | 0/4 [00:00<?, ?it/s]"
      ]
     },
     "metadata": {},
     "output_type": "display_data"
    }
   ],
   "source": [
    "lr = LinearRegression(featuresCol=\"features\", labelCol=\"log_trip_count\", predictionCol=\"log_pred\")\n",
    "stages = [stringIndexer, oheEncoder, vecAssembler, lr]\n",
    "pipeline = Pipeline(stages = stages)\n",
    "pipelineModel = pipeline.fit(logTrainingData)"
   ]
  },
  {
   "cell_type": "markdown",
   "metadata": {
    "application/vnd.databricks.v1+cell": {
     "cellMetadata": {
      "byteLimit": 2048000,
      "rowLimit": 10000
     },
     "inputWidgets": {},
     "nuid": "339bc069-d8f8-4c5e-8095-e63680985cd2",
     "showTitle": false,
     "title": ""
    }
   },
   "source": [
    "## 3. Evaluate ML Pipeline using Testing Data"
   ]
  },
  {
   "cell_type": "code",
   "execution_count": 0,
   "metadata": {
    "application/vnd.databricks.v1+cell": {
     "cellMetadata": {
      "byteLimit": 2048000,
      "rowLimit": 10000
     },
     "inputWidgets": {},
     "nuid": "b1207950-6146-4281-83ff-e4d9ab970611",
     "showTitle": false,
     "title": ""
    }
   },
   "outputs": [],
   "source": [
    "predDF = pipelineModel.transform(logTestingData)"
   ]
  },
  {
   "cell_type": "markdown",
   "metadata": {
    "application/vnd.databricks.v1+cell": {
     "cellMetadata": {
      "byteLimit": 2048000,
      "rowLimit": 10000
     },
     "inputWidgets": {},
     "nuid": "48f37c77-de20-4555-a0da-0d1b615e70f9",
     "showTitle": false,
     "title": ""
    }
   },
   "source": [
    "\n",
    "###Exponentiate Trip Count Prediction "
   ]
  },
  {
   "cell_type": "code",
   "execution_count": 0,
   "metadata": {
    "application/vnd.databricks.v1+cell": {
     "cellMetadata": {
      "byteLimit": 2048000,
      "rowLimit": 10000
     },
     "inputWidgets": {},
     "nuid": "1610c3ca-a4aa-4175-bd95-8c397b35d318",
     "showTitle": false,
     "title": ""
    }
   },
   "outputs": [],
   "source": [
    "expDF = predDF.withColumn(\"prediction\", exp(col(\"log_pred\")))\n",
    "regressionEvaluator = RegressionEvaluator(labelCol=\"trip_count\", predictionCol=\"prediction\")"
   ]
  },
  {
   "cell_type": "markdown",
   "metadata": {
    "application/vnd.databricks.v1+cell": {
     "cellMetadata": {
      "byteLimit": 2048000,
      "rowLimit": 10000
     },
     "inputWidgets": {},
     "nuid": "0d214ec5-5271-4dfd-8de7-d5f115ae10c7",
     "showTitle": false,
     "title": ""
    }
   },
   "source": [
    "\n",
    "###Evaluation with Mean Absolute Error (MAE) and R Squared Value (R2)"
   ]
  },
  {
   "cell_type": "code",
   "execution_count": 0,
   "metadata": {
    "application/vnd.databricks.v1+cell": {
     "cellMetadata": {
      "byteLimit": 2048000,
      "rowLimit": 10000
     },
     "inputWidgets": {},
     "nuid": "60d1d77a-b2ac-42ed-a153-027637c43752",
     "showTitle": false,
     "title": ""
    }
   },
   "outputs": [
    {
     "output_type": "stream",
     "name": "stdout",
     "output_type": "stream",
     "text": [
      "MAE is 11674.90853940699\nR2 is 0.7780053768031745\n"
     ]
    }
   ],
   "source": [
    "mae = regressionEvaluator.setMetricName(\"mae\").evaluate(expDF)\n",
    "r2 = regressionEvaluator.setMetricName(\"r2\").evaluate(expDF)\n",
    "print(f\"MAE is {mae}\")\n",
    "print(f\"R2 is {r2}\")"
   ]
  }
 ],
 "metadata": {
  "application/vnd.databricks.v1+notebook": {
   "dashboards": [],
   "language": "python",
   "notebookMetadata": {
    "mostRecentlyExecutedCommandWithImplicitDF": {
     "commandId": -1,
     "dataframes": [
      "_sqldf"
     ]
    },
    "pythonIndentUnit": 4
   },
   "notebookName": "assignment_2_Ye_Yint_Paing_Oo",
   "widgets": {}
  }
 },
 "nbformat": 4,
 "nbformat_minor": 0
}
